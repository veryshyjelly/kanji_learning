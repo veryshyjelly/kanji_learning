{
 "cells": [
  {
   "cell_type": "code",
   "execution_count": 2,
   "metadata": {},
   "outputs": [
    {
     "data": {
      "text/html": [
       "<style>\n",
       ".cell-output-ipywidget-background {\n",
       "   background-color: transparent !important;\n",
       "}\n",
       ".jp-OutputArea-output {\n",
       "   background-color: transparent;\n",
       "}  \n",
       "</style>\n"
      ],
      "text/plain": [
       "<IPython.core.display.HTML object>"
      ]
     },
     "metadata": {},
     "output_type": "display_data"
    }
   ],
   "source": [
    "%%html\n",
    "<style>\n",
    ".cell-output-ipywidget-background {\n",
    "   background-color: transparent !important;\n",
    "}\n",
    ".jp-OutputArea-output {\n",
    "   background-color: transparent;\n",
    "}  \n",
    "</style>"
   ]
  },
  {
   "cell_type": "code",
   "execution_count": 16,
   "metadata": {},
   "outputs": [
    {
     "data": {
      "text/plain": [
       "26919"
      ]
     },
     "execution_count": 16,
     "metadata": {},
     "output_type": "execute_result"
    }
   ],
   "source": [
    "import pandas as pd \n",
    "\n",
    "data = pd.read_csv(\"data.csv\",index_col=0)\n",
    "data.size"
   ]
  },
  {
   "cell_type": "code",
   "execution_count": null,
   "metadata": {},
   "outputs": [],
   "source": [
    "import requests\n",
    "from PIL import Image\n",
    "from os import listdir\n",
    "\n",
    "present = listdir(\"kanjing\")\n",
    "\n",
    "for i in range(data.shape[0]):\n",
    "    row = data.loc[i]\n",
    "    kanji = row.kanji\n",
    "    if kanji + \".png\" in present:\n",
    "        continue\n",
    "    print(i, kanji)\n",
    "    response = requests.get(f\"https://kanji.sljfaq.org/kanjivg/memory.cgi?k={kanji}&s=5&n=0.4&l=4\", stream=True)\n",
    "    response.raw.decode_content = True\n",
    "    Image.open(response.raw).save(\"kanjing/\" + kanji + \".png\")\n",
    "print(\"done\")"
   ]
  },
  {
   "cell_type": "code",
   "execution_count": 24,
   "metadata": {},
   "outputs": [],
   "source": [
    "from PIL import Image\n",
    "from os import listdir\n",
    "import requests\n",
    "\n",
    "def finditem(obj, key):\n",
    "    if key in obj: return obj[key]\n",
    "    for k, v in obj.items():\n",
    "        if isinstance(v,dict):\n",
    "            item = finditem(v, key)\n",
    "            if item is not None:\n",
    "                return item\n",
    "def get_if_not(keyword) -> bool:\n",
    "    present = listdir(\"keywordng\")\n",
    "\n",
    "    if keyword + \".png\" in present:\n",
    "        return True\n",
    "    print(keyword)\n",
    "    try:\n",
    "        response = requests.get(f\"https://api.langeek.co/v1/cs/en/word/?term={keyword}&filter=,inCategory,photo\").json()\n",
    "        keyword_image = finditem(response[0], \"photo\")\n",
    "        if keyword_image:\n",
    "            response = requests.get(keyword_image, stream=True)\n",
    "            response.raw.decode_content = True\n",
    "            Image.open(response.raw).save(\"keywordng/\" + keyword + \".png\")\n",
    "            return True\n",
    "    except Exception as e:\n",
    "        # print(e)\n",
    "        return False\n",
    "\n",
    "    return False"
   ]
  },
  {
   "cell_type": "code",
   "execution_count": 15,
   "metadata": {},
   "outputs": [
    {
     "data": {
      "application/vnd.jupyter.widget-view+json": {
       "model_id": "b2f668cd4af6492dacc1beee1ccc72a7",
       "version_major": 2,
       "version_minor": 0
      },
      "text/plain": [
       "VBox(children=(HBox(children=(Label(value='', layout=Layout(margin='1rem 0 1rem 0'), style=LabelStyle(font_siz…"
      ]
     },
     "execution_count": 15,
     "metadata": {},
     "output_type": "execute_result"
    }
   ],
   "source": [
    "import random \n",
    "import markdown\n",
    "from ipywidgets import *\n",
    "\n",
    "# (294, 546)\n",
    "bucket = list(range(294))\n",
    "# bucket = list(range(294, 546))\n",
    "# bucket = list(range(546, 2229))\n",
    "\n",
    "btn_show = Button(icon=\"check\", button_style=\"primary\", \n",
    "                  layout=Layout(width=\"60px\", height=\"30px\", margin=\"1rem 5rem auto auto\"))\n",
    "keyword_label = Label(value=\"\", style=dict(text_color=\"#eeeeee\", font_size=\"30px\"), \n",
    "                  layout=Layout(margin=\"1rem 0 1rem 0\"))\n",
    "kanji_image = Image(format=\"png\", height=500, width=500)\n",
    "kanji_image.set_value_from_file(\"kanjing/1.png\")\n",
    "story_label = HTML(value=\"\", style=dict(text_color=\"#eeeeee\", font_size=\"16px\"))\n",
    "\n",
    "box = VBox((HBox((keyword_label, btn_show)), kanji_image, story_label))\n",
    "\n",
    "next_question = False\n",
    "# random.shuffle(bucket)\n",
    "\n",
    "def question(arg=None):\n",
    "    global bucket, next_question, keyword_label\n",
    "    next_question = not next_question\n",
    "\n",
    "    row = data.loc[bucket[0]]\n",
    "    keyword, kanji, story = row.keyword, row.kanji, row.koohi1.split(\":\")[2]\n",
    "\n",
    "    if next_question:\n",
    "        btn_show.button_style = \"primary\"\n",
    "        keyword_label.value = keyword\n",
    "        kanji_image.set_value_from_file(\"kanjing/1.png\")\n",
    "        story_label.value = \"\"\n",
    "    else:\n",
    "        btn_show.button_style = \"success\"\n",
    "        kanji_image.set_value_from_file(f\"kanjing/{kanji}.png\")\n",
    "        story_label.value = markdown.markdown(story)\n",
    "        bucket.pop(0)\n",
    "\n",
    "btn_show.on_click(question)\n",
    "\n",
    "box"
   ]
  }
 ],
 "metadata": {
  "kernelspec": {
   "display_name": "virt",
   "language": "python",
   "name": "python3"
  },
  "language_info": {
   "codemirror_mode": {
    "name": "ipython",
    "version": 3
   },
   "file_extension": ".py",
   "mimetype": "text/x-python",
   "name": "python",
   "nbconvert_exporter": "python",
   "pygments_lexer": "ipython3",
   "version": "3.11.2"
  }
 },
 "nbformat": 4,
 "nbformat_minor": 2
}
