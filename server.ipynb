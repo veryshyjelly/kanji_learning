{
 "cells": [
  {
   "cell_type": "code",
   "execution_count": null,
   "metadata": {},
   "outputs": [],
   "source": [
    "%pip install flask\n",
    "%pip install flask-cors"
   ]
  },
  {
   "cell_type": "code",
   "execution_count": 20,
   "metadata": {},
   "outputs": [
    {
     "data": {
      "text/plain": [
       "(2991, 9)"
      ]
     },
     "execution_count": 20,
     "metadata": {},
     "output_type": "execute_result"
    }
   ],
   "source": [
    "import pandas as pd \n",
    "\n",
    "data = pd.read_csv(\"data.csv\",index_col=0)\n",
    "data.shape"
   ]
  },
  {
   "cell_type": "code",
   "execution_count": 34,
   "metadata": {},
   "outputs": [],
   "source": [
    "import random\n",
    "\n",
    "bucket = list(range(294, 546))\n",
    "\n",
    "random.shuffle(bucket)\n",
    "\n",
    "def gen_question(id):\n",
    "    global bucket \n",
    "\n",
    "    current = bucket[id]\n",
    "    opts = random.choices(bucket, k=9)\n",
    "\n",
    "    if current not in opts:\n",
    "        opts.pop()\n",
    "        opts.append(current)\n",
    "        random.shuffle(opts)\n",
    "    \n",
    "    question = {}\n",
    "    question[\"keyword\"] = data.loc[current].keyword\n",
    "    for i in range(9):\n",
    "        question[\"abcdefghi\"[i]] = data.loc[opts[i]].kanji\n",
    "    \n",
    "    question[\"answer\"] = \"abcdefghi\"[opts.index(current)]\n",
    "\n",
    "    return question\n"
   ]
  },
  {
   "cell_type": "code",
   "execution_count": 36,
   "metadata": {},
   "outputs": [
    {
     "name": "stdout",
     "output_type": "stream",
     "text": [
      " * Serving Flask app '__main__'\n",
      " * Debug mode: off\n"
     ]
    },
    {
     "name": "stderr",
     "output_type": "stream",
     "text": [
      "\u001b[31m\u001b[1mWARNING: This is a development server. Do not use it in a production deployment. Use a production WSGI server instead.\u001b[0m\n",
      " * Running on http://127.0.0.1:5000\n",
      "\u001b[33mPress CTRL+C to quit\u001b[0m\n",
      "127.0.0.1 - - [06/May/2024 19:31:15] \"GET / HTTP/1.1\" 200 -\n",
      "127.0.0.1 - - [06/May/2024 19:31:15] \"\u001b[36mGET /static/style.css HTTP/1.1\u001b[0m\" 304 -\n",
      "127.0.0.1 - - [06/May/2024 19:31:15] \"\u001b[36mGET /static/script.js HTTP/1.1\u001b[0m\" 304 -\n",
      "[2024-05-06 19:31:15,553] ERROR in app: Exception on /question/0 [GET]\n",
      "Traceback (most recent call last):\n",
      "  File \"/home/veryshyjelly/Documents/learned_kanji/virt/lib/python3.11/site-packages/flask/app.py\", line 1473, in wsgi_app\n",
      "    response = self.full_dispatch_request()\n",
      "               ^^^^^^^^^^^^^^^^^^^^^^^^^^^^\n",
      "  File \"/home/veryshyjelly/Documents/learned_kanji/virt/lib/python3.11/site-packages/flask/app.py\", line 882, in full_dispatch_request\n",
      "    rv = self.handle_user_exception(e)\n",
      "         ^^^^^^^^^^^^^^^^^^^^^^^^^^^^^\n",
      "  File \"/home/veryshyjelly/Documents/learned_kanji/virt/lib/python3.11/site-packages/flask_cors/extension.py\", line 178, in wrapped_function\n",
      "    return cors_after_request(app.make_response(f(*args, **kwargs)))\n",
      "                                                ^^^^^^^^^^^^^^^^^^\n",
      "  File \"/home/veryshyjelly/Documents/learned_kanji/virt/lib/python3.11/site-packages/flask/app.py\", line 880, in full_dispatch_request\n",
      "    rv = self.dispatch_request()\n",
      "         ^^^^^^^^^^^^^^^^^^^^^^^\n",
      "  File \"/home/veryshyjelly/Documents/learned_kanji/virt/lib/python3.11/site-packages/flask/app.py\", line 865, in dispatch_request\n",
      "    return self.ensure_sync(self.view_functions[rule.endpoint])(**view_args)  # type: ignore[no-any-return]\n",
      "           ^^^^^^^^^^^^^^^^^^^^^^^^^^^^^^^^^^^^^^^^^^^^^^^^^^^^^^^^^^^^^^^^^\n",
      "  File \"/tmp/ipykernel_798664/2780910100.py\", line 18, in get_question\n",
      "    return json.dumps(gen_question(id), ensure_ascii=False).encode(\"utf-8\")\n",
      "                      ^^^^^^^^^^^^^^^^\n",
      "  File \"/tmp/ipykernel_798664/4173136211.py\", line 10, in gen_question\n",
      "    current = bucket[id]\n",
      "              ~~~~~~^^^^\n",
      "TypeError: list indices must be integers or slices, not str\n",
      "127.0.0.1 - - [06/May/2024 19:31:15] \"\u001b[35m\u001b[1mGET /question/0 HTTP/1.1\u001b[0m\" 500 -\n"
     ]
    }
   ],
   "source": [
    "from flask import Flask, json, render_template, send_from_directory\n",
    "from flask_cors import CORS\n",
    "\n",
    "api = Flask(__name__)\n",
    "CORS(api)\n",
    "\n",
    "@api.route(\"/\") \n",
    "def hello(): \n",
    "    return render_template('index.html') \n",
    "\n",
    "@api.route(\"/kanjing/<filename>\")\n",
    "def serve_file(filename):\n",
    "   return send_from_directory(\"kanjing\", filename)\n",
    "\n",
    "@api.route('/question/<id>', methods=['GET'])\n",
    "def get_question(id):\n",
    "  global index \n",
    "  return json.dumps(gen_question(int(id)), ensure_ascii=False).encode(\"utf-8\")\n",
    "\n",
    "if __name__ == '__main__':\n",
    "    api.run()"
   ]
  }
 ],
 "metadata": {
  "kernelspec": {
   "display_name": "virt",
   "language": "python",
   "name": "python3"
  },
  "language_info": {
   "codemirror_mode": {
    "name": "ipython",
    "version": 3
   },
   "file_extension": ".py",
   "mimetype": "text/x-python",
   "name": "python",
   "nbconvert_exporter": "python",
   "pygments_lexer": "ipython3",
   "version": "3.11.2"
  }
 },
 "nbformat": 4,
 "nbformat_minor": 2
}
